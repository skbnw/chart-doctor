{
  "nbformat": 4,
  "nbformat_minor": 0,
  "metadata": {
    "colab": {
      "name": "Yahoo_RSS_Media.ipynb",
      "provenance": [],
      "collapsed_sections": [],
      "toc_visible": true,
      "mount_file_id": "10OE3BNH_9r8nzs5ufn8fHUvTLay6hj-y",
      "authorship_tag": "ABX9TyOzSE+dl71U2UJhNwAqqPiI",
      "include_colab_link": true
    },
    "kernelspec": {
      "name": "python3",
      "display_name": "Python 3"
    },
    "language_info": {
      "name": "python"
    }
  },
  "cells": [
    {
      "cell_type": "markdown",
      "metadata": {
        "id": "view-in-github",
        "colab_type": "text"
      },
      "source": [
        "<a href=\"https://colab.research.google.com/github/skbnw/chart-doctor/blob/master/Yahoo_RSS_Media.ipynb\" target=\"_parent\"><img src=\"https://colab.research.google.com/assets/colab-badge.svg\" alt=\"Open In Colab\"/></a>"
      ]
    },
    {
      "cell_type": "code",
      "metadata": {
        "id": "mzv5XNWMTapl"
      },
      "source": [
        ""
      ],
      "execution_count": null,
      "outputs": []
    },
    {
      "cell_type": "code",
      "metadata": {
        "id": "qhI1kI6RWvcj"
      },
      "source": [
        "#Yahoo_RSS_Media 見出しスクレイピング\n",
        "#対象約600サイト、所要10分程度、1・5Ｍ\n",
        "\n",
        "import pandas as pd\n",
        "import requests\n",
        "from bs4 import BeautifulSoup\n",
        "import re\n",
        "import csv\n",
        "\n",
        "df = pd.read_csv( '/content/yahoo_media_list.csv') \n",
        "\n",
        "with open(\"/content/Yahoo_RSS_Media.csv\", mode=\"a\", encoding=\"utf_8_sig\",newline='') as f:\n",
        "  writer = csv.DictWriter(f, ['Media','Title','Link','Pubdate', 'Description'])\n",
        "  writer.writeheader()\n",
        " \n",
        "  for index, row in df.iterrows():\n",
        "    url = row['url'] \n",
        "    xml = requests.get( url )\n",
        "    soup = BeautifulSoup(xml.text, 'xml' )\n",
        "\n",
        "    for news in soup.findAll('item'):\n",
        "      d = {}\n",
        "      d[\"Media\"]  = row['media'] \n",
        "      d[\"Title\"]  = news.title.string\n",
        "      d[\"Link\"] = news.link.string\n",
        "      d[\"Pubdate\"] = news.pubDate.string\n",
        "      d[\"Description\"]  = \"\" if news.description == None else news.description.string\n",
        "      writer.writerow(d)\n",
        "    \n",
        "\n",
        "\n",
        "# # # print( \"'{}','{}','{}'\".format(Nowtime, Headline, Link ))\n",
        "# # # from datetime import timedelta\n",
        "#   #  url_list = [] \n",
        " \n",
        "\n"
      ],
      "execution_count": null,
      "outputs": []
    }
  ]
}